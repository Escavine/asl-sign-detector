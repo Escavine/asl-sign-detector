{
 "cells": [
  {
   "cell_type": "code",
   "execution_count": 4,
   "id": "9817407d",
   "metadata": {},
   "outputs": [],
   "source": [
    "import cv2 #opencv\n",
    "import os #file paths making easier to locate\n",
    "import time #used to give time for me to change asl symbol for custom dataset\n",
    "import uuid #for naming image files to make them unique and prevent duplication"
   ]
  },
  {
   "cell_type": "code",
   "execution_count": 5,
   "id": "fb08c594",
   "metadata": {},
   "outputs": [],
   "source": [
    "IMG_DIR = 'Tensorflow/workspace/images/collectedimages' #will create a new folder for custom images via openCV\n"
   ]
  },
  {
   "cell_type": "code",
   "execution_count": 6,
   "id": "0453cf7d",
   "metadata": {},
   "outputs": [],
   "source": [
    "LABELS = ['hello', 'yes', 'no', 'peace', 'thankyou'] #number of labels and images\n",
    "imgs_num = 20 #I will save 20 images per sign"
   ]
  },
  {
   "cell_type": "code",
   "execution_count": 7,
   "id": "67778b37",
   "metadata": {
    "scrolled": true
   },
   "outputs": [
    {
     "name": "stdout",
     "output_type": "stream",
     "text": [
      "Collecting images for hello\n"
     ]
    },
    {
     "name": "stderr",
     "output_type": "stream",
     "text": [
      "A subdirectory or file #will already exists.\n",
      "Error occurred while processing: #will.\n",
      "A subdirectory or file add already exists.\n",
      "Error occurred while processing: add.\n",
      "A subdirectory or file a already exists.\n",
      "Error occurred while processing: a.\n",
      "A subdirectory or file seperate already exists.\n",
      "Error occurred while processing: seperate.\n",
      "A subdirectory or file folder already exists.\n",
      "Error occurred while processing: folder.\n",
      "A subdirectory or file for already exists.\n",
      "Error occurred while processing: for.\n",
      "A subdirectory or file each already exists.\n",
      "Error occurred while processing: each.\n",
      "A subdirectory or file label already exists.\n",
      "Error occurred while processing: label.\n"
     ]
    },
    {
     "name": "stdout",
     "output_type": "stream",
     "text": [
      "Collecting images for yes\n"
     ]
    },
    {
     "name": "stderr",
     "output_type": "stream",
     "text": [
      "A subdirectory or file #will already exists.\n",
      "Error occurred while processing: #will.\n",
      "A subdirectory or file add already exists.\n",
      "Error occurred while processing: add.\n",
      "A subdirectory or file a already exists.\n",
      "Error occurred while processing: a.\n",
      "A subdirectory or file seperate already exists.\n",
      "Error occurred while processing: seperate.\n",
      "A subdirectory or file folder already exists.\n",
      "Error occurred while processing: folder.\n",
      "A subdirectory or file for already exists.\n",
      "Error occurred while processing: for.\n",
      "A subdirectory or file each already exists.\n",
      "Error occurred while processing: each.\n",
      "A subdirectory or file label already exists.\n",
      "Error occurred while processing: label.\n"
     ]
    },
    {
     "name": "stdout",
     "output_type": "stream",
     "text": [
      "Collecting images for no\n"
     ]
    },
    {
     "name": "stderr",
     "output_type": "stream",
     "text": [
      "A subdirectory or file #will already exists.\n",
      "Error occurred while processing: #will.\n",
      "A subdirectory or file add already exists.\n",
      "Error occurred while processing: add.\n",
      "A subdirectory or file a already exists.\n",
      "Error occurred while processing: a.\n",
      "A subdirectory or file seperate already exists.\n",
      "Error occurred while processing: seperate.\n",
      "A subdirectory or file folder already exists.\n",
      "Error occurred while processing: folder.\n",
      "A subdirectory or file for already exists.\n",
      "Error occurred while processing: for.\n",
      "A subdirectory or file each already exists.\n",
      "Error occurred while processing: each.\n",
      "A subdirectory or file label already exists.\n",
      "Error occurred while processing: label.\n"
     ]
    },
    {
     "name": "stdout",
     "output_type": "stream",
     "text": [
      "Collecting images for peace\n"
     ]
    },
    {
     "name": "stderr",
     "output_type": "stream",
     "text": [
      "A subdirectory or file #will already exists.\n",
      "Error occurred while processing: #will.\n",
      "A subdirectory or file add already exists.\n",
      "Error occurred while processing: add.\n",
      "A subdirectory or file a already exists.\n",
      "Error occurred while processing: a.\n",
      "A subdirectory or file seperate already exists.\n",
      "Error occurred while processing: seperate.\n",
      "A subdirectory or file folder already exists.\n",
      "Error occurred while processing: folder.\n",
      "A subdirectory or file for already exists.\n",
      "Error occurred while processing: for.\n",
      "A subdirectory or file each already exists.\n",
      "Error occurred while processing: each.\n",
      "A subdirectory or file label already exists.\n",
      "Error occurred while processing: label.\n"
     ]
    },
    {
     "name": "stdout",
     "output_type": "stream",
     "text": [
      "Collecting images for thankyou\n"
     ]
    }
   ],
   "source": [
    "for label in LABELS: #this will loop through the five labels, for the ASL I will do\n",
    "    !mkdir {'Tensorflow\\workspace\\images\\collectedimages\\\\'+label} #will add a seperate folder for each label\n",
    "    cap = cv2.VideoCapture(0) #enable the webcam\n",
    "    print('Collecting images for {}'.format(label))\n",
    "    time.sleep(5) #wait for a certain number of seconds before proceeding again\n",
    "    for imgnum in range(imgs_num): #will loop on the number of images which is 20\n",
    "        ret, frame = cap.read() #the code a line downwards creates a unique id to prevent image duplication\n",
    "        imgname = os.path.join(IMG_DIR, label, label+'.'+'{}.jpg'.format(str(uuid.uuid1()))) \n",
    "        cv2.imwrite(imgname, frame)\n",
    "        cv2.imshow('frame', frame)\n",
    "        time.sleep(2)\n",
    "        \n",
    "        if cv2.waitKey(1) & 0xFF == ord('q'): #incase the wrong ASL is held\n",
    "            break\n",
    "    cap.release()"
   ]
  },
  {
   "cell_type": "code",
   "execution_count": null,
   "id": "00a314a3",
   "metadata": {},
   "outputs": [],
   "source": []
  }
 ],
 "metadata": {
  "kernelspec": {
   "display_name": "Python 3 (ipykernel)",
   "language": "python",
   "name": "python3"
  },
  "language_info": {
   "codemirror_mode": {
    "name": "ipython",
    "version": 3
   },
   "file_extension": ".py",
   "mimetype": "text/x-python",
   "name": "python",
   "nbconvert_exporter": "python",
   "pygments_lexer": "ipython3",
   "version": "3.8.15"
  }
 },
 "nbformat": 4,
 "nbformat_minor": 5
}
